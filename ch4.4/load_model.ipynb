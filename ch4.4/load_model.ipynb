{
 "cells": [
  {
   "cell_type": "code",
   "execution_count": 15,
   "metadata": {},
   "outputs": [
    {
     "name": "stdout",
     "output_type": "stream",
     "text": [
      "---[宮沢 賢治：よだかの星]と似た作品は？---\n",
      "[('宮沢賢治:どんぐりと山猫', 0.9997031092643738), ('芥川龍之介:老年', 0.999675989151001), ('宮沢賢治:やまなし', 0.9996281862258911)]\n",
      "\n",
      "---[芥川　龍之介：犬と笛]と似た作品は？---\n",
      "[('芥川龍之介:羅生門', 0.9998209476470947), ('宮沢賢治:やまなし', 0.9997440576553345), ('夏目漱石:吾輩は猫である', 0.9996716976165771)]\n",
      "\n",
      "---[太宰 治：五所川原]と似た作品は？---\n",
      "[('夏目漱石:吾輩は猫である', 0.9977449774742126), ('芥川龍之介:羅生門', 0.9976843595504761), ('夏目漱石:草枕', 0.9972745180130005)]\n",
      "\n",
      "---[夏目 漱石：一夜]と似た作品は？---\n",
      "[('夏目漱石:虜美人草', 0.9981018304824829), ('夏目漱石:草枕', 0.9979110360145569), ('宮沢賢治:注文の多い料理店', 0.997637152671814)]\n",
      "\n"
     ]
    },
    {
     "name": "stderr",
     "output_type": "stream",
     "text": [
      "/Users/yuki-t/.pyenv/versions/anaconda3-5.0.0/lib/python3.6/site-packages/gensim/matutils.py:737: FutureWarning: Conversion of the second argument of issubdtype from `int` to `np.signedinteger` is deprecated. In future, it will be treated as `np.int64 == np.dtype(int).type`.\n",
      "  if np.issubdtype(vec.dtype, np.int):\n"
     ]
    }
   ],
   "source": [
    "import zipfile\n",
    "import os.path\n",
    "import urllib.request as req\n",
    "import MeCab\n",
    "from gensim import models\n",
    "\n",
    "# MeCabの初期化\n",
    "mecab = MeCab.Tagger()\n",
    "mecab.parse(\"\")\n",
    "\n",
    "# 保存したDoc2ver学習モデル読み込み\n",
    "model = models.Doc2Vec.load('aozora.model')\n",
    "\n",
    "# 分類用のzipファイル開き、中の文書取得\n",
    "def read_book(url, zipname):\n",
    "    # Zipファイルがなければ取得\n",
    "    if not os.path.exists(zipname):\n",
    "        # urllib.request.urlretrieve(目的のURL, 保存先のファイル名) ダウンロードに使う\n",
    "        req.urlretrieve(url, zipname)\n",
    "    # Zipファイル展開\n",
    "    with zipfile.ZipFile(zipname, \"r\") as zf:\n",
    "        # ZIpファイルに含まれるファイルを展開\n",
    "        for filename in zf.namelist():\n",
    "            with zf.open(filename, \"r\") as f:\n",
    "                # ファイルがshift-jisなので形式指定でデコード\n",
    "                return f.read().decode(\"shift-jis\")\n",
    "            \n",
    "# 引数のテキストを分かち書きにして配列に格納する\n",
    "def split_words(text):\n",
    "    node = mecab.parseToNode(text)\n",
    "    wakati_words = []\n",
    "    while node is not None:\n",
    "        hinshi = node.feature.split(\",\")[0]\n",
    "        # 名詞であれば文字列をそのまま格納\n",
    "        if hinshi in [\"名詞\"]:\n",
    "            wakati_words.append(node.surface)\n",
    "        # 形容詞、動詞は原型を格納\n",
    "        elif hinshi in [\"動詞\",\"形容詞\"]:\n",
    "            wakati_words.append(node.feature.split(\",\")[6])\n",
    "        node = node.next\n",
    "    return wakati_words\n",
    "\n",
    "def similar(title,url):\n",
    "    # [-1]一番後ろの要素取得　.../*.zip\n",
    "    zipname = url.split(\"/\")[-1]\n",
    "    words = read_book(url,zipname)\n",
    "    wakati_words = split_words(words)\n",
    "    # '文書名',ベクトルを返す\n",
    "    vector = model.infer_vector(wakati_words)\n",
    "    print(\"---[\" + title + ']と似た作品は？---')\n",
    "    # topnの数だけ TaggedDocumentのタグ作者：作品名,ベクトルのリスト返す\n",
    "    # model.docvecs.most_similar((positive=)[文書名], topn=N)\n",
    "    print(model.docvecs.most_similar([vector],topn = 3))\n",
    "    print(\"\")\n",
    "\n",
    "# 各作家の作品を一つずつ分類\n",
    "similar(\"宮沢 賢治：よだかの星\",\n",
    "        \"https://www.aozora.gr.jp/cards/000081/files/473_ruby_467.zip\")\n",
    "similar(\"芥川　龍之介：犬と笛\",\n",
    "        \"https://www.aozora.gr.jp/cards/000879/files/56_ruby_845.zip\")\n",
    "similar(\"太宰 治：五所川原\",\n",
    "        \"https://www.aozora.gr.jp/cards/000035/files/45688_ruby_21351.zip\")\n",
    "similar(\"夏目 漱石：一夜\",\n",
    "        \"https://www.aozora.gr.jp/cards/000148/files/1086_ruby_5742.zip\")"
   ]
  },
  {
   "cell_type": "code",
   "execution_count": null,
   "metadata": {
    "collapsed": true
   },
   "outputs": [],
   "source": []
  }
 ],
 "metadata": {
  "kernelspec": {
   "display_name": "Python 3",
   "language": "python",
   "name": "python3"
  },
  "language_info": {
   "codemirror_mode": {
    "name": "ipython",
    "version": 3
   },
   "file_extension": ".py",
   "mimetype": "text/x-python",
   "name": "python",
   "nbconvert_exporter": "python",
   "pygments_lexer": "ipython3",
   "version": "3.6.2"
  }
 },
 "nbformat": 4,
 "nbformat_minor": 2
}
