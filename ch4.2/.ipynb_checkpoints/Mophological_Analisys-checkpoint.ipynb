{
 "cells": [
  {
   "cell_type": "code",
   "execution_count": 24,
   "metadata": {},
   "outputs": [
    {
     "name": "stdout",
     "output_type": "stream",
     "text": [
      "男前\t名詞,一般,*,*,*,*,男前,オトコマエ,オトコマエ\n",
      "な\t助動詞,*,*,*,特殊・ダ,体言接続,だ,ナ,ナ\n",
      "ステ\t名詞,固有名詞,一般,*,*,*,ステ,ステ,ステ\n",
      "ハゲ\t名詞,一般,*,*,*,*,ハゲ,ハゲ,ハゲ\n",
      "が\t助詞,格助詞,一般,*,*,*,が,ガ,ガ\n",
      "、\t記号,読点,*,*,*,*,、,、,、\n",
      "中央大学\t名詞,固有名詞,組織,*,*,*,中央大学,チュウオウダイガク,チューオーダイガク\n",
      "を\t助詞,格助詞,一般,*,*,*,を,ヲ,ヲ\n",
      "ぶっ\t接頭詞,動詞接続,*,*,*,*,ぶっ,ブッ,ブッ\n",
      "壊す\t動詞,自立,*,*,五段・サ行,基本形,壊す,コワス,コワス\n",
      "。\t記号,句点,*,*,*,*,。,。,。\n",
      "EOS\n",
      "\n"
     ]
    }
   ],
   "source": [
    "import MeCab\n",
    "# MeCabオブジェクトを生成\n",
    "tagger = MeCab.Tagger()\n",
    "# parse()はtaggerコンストラクタの形式で形態素解析した結果を出力する\n",
    "result = tagger.parse(\"男前なステハゲ が、中央大学をぶっ壊す。\")\n",
    "print(result)"
   ]
  },
  {
   "cell_type": "code",
   "execution_count": 28,
   "metadata": {},
   "outputs": [
    {
     "name": "stdout",
     "output_type": "stream",
     "text": [
      "機械学習\t名詞,固有名詞,一般,*,*,*,機械学習,キカイガクシュウ,キカイガクシュー\n",
      "を\t助詞,格助詞,一般,*,*,*,を,ヲ,ヲ\n",
      "マスター\t名詞,サ変接続,*,*,*,*,マスター,マスター,マスター\n",
      "し\t動詞,自立,*,*,サ変・スル,連用形,する,シ,シ\n",
      "たい\t助動詞,*,*,*,特殊・タイ,基本形,たい,タイ,タイ\n",
      "EOS\n",
      "\n"
     ]
    }
   ],
   "source": [
    "import MeCab\n",
    "# mecab-ipadic-NEologd辞書指定してオブジェクト生成\n",
    "tagger = MeCab.Tagger(\"-d /var/lib/mecab/dic/mecab-ipadic-neologd\")\n",
    "# 形態素解析\n",
    "result = tagger.parse(\"機械学習をマスターしたい。\")\n",
    "print(result)"
   ]
  },
  {
   "cell_type": "code",
   "execution_count": 27,
   "metadata": {},
   "outputs": [
    {
     "name": "stdout",
     "output_type": "stream",
     "text": [
      "['男前', 'ステ', 'ハゲ', '中央大学', '壊せる']\n"
     ]
    }
   ],
   "source": [
    "# ストップワードの除去：使用頻度の高い言葉を処理対象外にする\n",
    "import MeCab\n",
    "# mecab-ipadic-NEologd辞書指定してオブジェクト生成\n",
    "tagger = MeCab.Tagger(\"-d /var/lib/mecab/dic/mecab-ipadic-neologd\")\n",
    "tagger.parse(\"\")\n",
    "# 形態素解析の結果をリストで取得、単語ごとにリストの要素に入ってる\n",
    "node = tagger.parseToNode(\"機械学習をマスターしたい。\")\n",
    "result = []\n",
    "\n",
    "#助詞や助動詞は拾わない\n",
    "while node is not None:\n",
    "    # 品詞情報取得\n",
    "    # Node.featureのフォーマット：品詞,品詞細分類1,品詞細分類2,品詞細分類3,活用形,活用型,原形,読み,発音\n",
    "    hinshi = node.feature.split(\",\")[0]\n",
    "    if hinshi in [\"名詞\"]:\n",
    "        # 表層形の取得、単語の文字が入ってる\n",
    "        result.append(node.surface)\n",
    "    elif hinshi in[\"動詞\",\"形容詞\"]:\n",
    "        # 形態素情報から原形情報取得\n",
    "        result.append(node.feature.split(\",\")[6])\n",
    "    node = node.next\n",
    "\n",
    "print(result)\n",
    "        "
   ]
  },
  {
   "cell_type": "code",
   "execution_count": null,
   "metadata": {
    "collapsed": true
   },
   "outputs": [],
   "source": []
  }
 ],
 "metadata": {
  "kernelspec": {
   "display_name": "Python 3",
   "language": "python",
   "name": "python3"
  },
  "language_info": {
   "codemirror_mode": {
    "name": "ipython",
    "version": 3
   },
   "file_extension": ".py",
   "mimetype": "text/x-python",
   "name": "python",
   "nbconvert_exporter": "python",
   "pygments_lexer": "ipython3",
   "version": "3.6.2"
  }
 },
 "nbformat": 4,
 "nbformat_minor": 2
}
