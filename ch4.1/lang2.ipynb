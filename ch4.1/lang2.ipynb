{
 "cells": [
  {
   "cell_type": "code",
   "execution_count": 4,
   "metadata": {},
   "outputs": [
    {
     "name": "stdout",
     "output_type": "stream",
     "text": [
      "['en' 'de' 'es']\n",
      "正解率： 1.0\n"
     ]
    }
   ],
   "source": [
    "import numpy as np\n",
    "from sklearn.naive_bayes import GaussianNB\n",
    "from sklearn.metrics import accuracy_score\n",
    "import glob\n",
    "\n",
    "# Unicodeのコードポイント頻度測定\n",
    "def count_codePoint(str):\n",
    "    # Unicodeのコードポイントをアドレスとする配列を用意\n",
    "    counter = np.zeros(65535)\n",
    "    \n",
    "    for i in range(len(str)):\n",
    "        # 各文字をUnicodeのコードポイントに1文字ずつ変換->ordメソッド\n",
    "        code_point = ord(str[i])\n",
    "        if code_point > 65535:\n",
    "            continue\n",
    "        # 対応アドレスの出現回数をインクリメント\n",
    "        counter[code_point] += 1\n",
    "        \n",
    "    # 各要素数を文字数で割って正規化\n",
    "    counter = counter / len(str)\n",
    "    return counter\n",
    "\n",
    "# 学習データ準備\n",
    "index = 0\n",
    "x_train = []\n",
    "y_train = []\n",
    "for file in glob.glob('./train/*.txt'):\n",
    "    # 言語情報を取得し、ラベルに設定\n",
    "     # ./train/のあと2文字（8,9文字目）\n",
    "    y_train.append(file[8:10])\n",
    "    \n",
    "    # ファイル内の文字列連結 ['en' 'de' 'es']\n",
    "    # Uncodeのコードポイントの頻度を測定し、入力データに設定\n",
    "    file_str = ''\n",
    "    for line in open(file, 'r'):\n",
    "        file_str = file_str + line\n",
    "    x_train.append(count_codePoint(file_str))\n",
    "    \n",
    "# 学習する\n",
    "clf = GaussianNB()\n",
    "clf.fit(x_train,y_train)\n",
    "\n",
    "# 評価データ準備\n",
    "index = 0\n",
    "x_test = []\n",
    "y_test = []\n",
    "for file in glob.glob('./test/*.txt'):\n",
    "    # 言語情報取得し、ラベルに設定\n",
    "    # ./test/のあと2文字（７、８文字目）\n",
    "    y_test.append(file[7:9])\n",
    "    # ファイル内の文字列連結 ['en' 'de' 'es']\n",
    "    # Uncodeのコードポイントの頻度を測定し、入力データに設定\n",
    "    file_str = ''\n",
    "    for line in open(file, 'r'):\n",
    "        file_str = file_str + line\n",
    "    x_test.append(count_codePoint(file_str))\n",
    "\n",
    "y_pred = clf.predict(x_test)\n",
    "print(y_pred)\n",
    "print(\"正解率：\", accuracy_score(y_test, y_pred))\n"
   ]
  },
  {
   "cell_type": "code",
   "execution_count": null,
   "metadata": {
    "collapsed": true
   },
   "outputs": [],
   "source": []
  }
 ],
 "metadata": {
  "kernelspec": {
   "display_name": "Python 3",
   "language": "python",
   "name": "python3"
  },
  "language_info": {
   "codemirror_mode": {
    "name": "ipython",
    "version": 3
   },
   "file_extension": ".py",
   "mimetype": "text/x-python",
   "name": "python",
   "nbconvert_exporter": "python",
   "pygments_lexer": "ipython3",
   "version": "3.6.2"
  }
 },
 "nbformat": 4,
 "nbformat_minor": 2
}
