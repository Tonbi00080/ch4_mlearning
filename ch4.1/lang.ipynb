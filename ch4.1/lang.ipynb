{
 "cells": [
  {
   "cell_type": "code",
   "execution_count": 13,
   "metadata": {},
   "outputs": [
    {
     "name": "stdout",
     "output_type": "stream",
     "text": [
      "['ja' 'en' 'fr' 'ru']\n",
      "正解率： 1.0\n"
     ]
    }
   ],
   "source": [
    "import numpy as np\n",
    "from sklearn.naive_bayes import GaussianNB\n",
    "from sklearn.metrics import accuracy_score\n",
    "\n",
    "# Unicodeのコードポイント頻度測定\n",
    "def count_codePoint(str):\n",
    "    # Unicodeのコードポイントをアドレスとする配列を用意\n",
    "    counter = np.zeros(65535)\n",
    "    \n",
    "    for i in range(len(str)):\n",
    "        # 各文字をUnicodeのコードポイントに1文字ずつ変換->ordメソッド\n",
    "        code_point = ord(str[i])\n",
    "        if code_point > 65535:\n",
    "            continue\n",
    "        # 対応アドレスの出現回数をインクリメント\n",
    "        counter[code_point] += 1\n",
    "        \n",
    "    # 各要素数を文字数で割って正規化\n",
    "    counter = counter / len(str)\n",
    "    return counter\n",
    "\n",
    "# 学習用データの準備\n",
    "ja_str = 'これは日本語の文章です'\n",
    "en_str = 'This is English sentences.'\n",
    "fr_str = 'C\\'est français　phrais.'\n",
    "\n",
    "x_train = [count_codePoint(ja_str), count_codePoint(en_str), count_codePoint(fr_str),count_codePoint(ru_str)]\n",
    "y_train = ['ja','en','fr','ru']\n",
    "\n",
    "# 学習する\n",
    "clf = GaussianNB()\n",
    "clf.fit(x_train, y_train)\n",
    "\n",
    "# 評価用データの準備\n",
    "ja_test_str = 'こんにちは'\n",
    "en_test_str = 'Hello'\n",
    "fr_test_str =  'Bonjour'\n",
    "ru_test_str = 'привет там'\n",
    "\n",
    "x_test = [count_codePoint(ja_test_str), count_codePoint(en_test_str), count_codePoint(fr_test_str),count_codePoint(ru_test_str)]\n",
    "y_test = ['ja','en','fr','ru']\n",
    "\n",
    "# 評価する\n",
    "y_pred = clf.predict(x_test)\n",
    "print(y_pred)\n",
    "print(\"正解率：\",accuracy_score(y_test,y_pred))"
   ]
  },
  {
   "cell_type": "code",
   "execution_count": null,
   "metadata": {
    "collapsed": true
   },
   "outputs": [],
   "source": []
  }
 ],
 "metadata": {
  "kernelspec": {
   "display_name": "Python 3",
   "language": "python",
   "name": "python3"
  },
  "language_info": {
   "codemirror_mode": {
    "name": "ipython",
    "version": 3
   },
   "file_extension": ".py",
   "mimetype": "text/x-python",
   "name": "python",
   "nbconvert_exporter": "python",
   "pygments_lexer": "ipython3",
   "version": "3.6.2"
  }
 },
 "nbformat": 4,
 "nbformat_minor": 2
}
