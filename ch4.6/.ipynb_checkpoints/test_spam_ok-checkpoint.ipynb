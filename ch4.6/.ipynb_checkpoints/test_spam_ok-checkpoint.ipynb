{
 "cells": [
  {
   "cell_type": "code",
   "execution_count": 9,
   "metadata": {},
   "outputs": [
    {
     "name": "stdout",
     "output_type": "stream",
     "text": [
      "結果= OK\n",
      "結果= SPAM\n"
     ]
    }
   ],
   "source": [
    "import pickle\n",
    "import MeCab\n",
    "import numpy as np\n",
    "from sklearn.naive_bayes import GaussianNB\n",
    "\n",
    "# テストするテキスト\n",
    "test_text1 = \"\"\"会社から支給されているiphoneの調子が悪いです\"\"\"\n",
    "test_text2 = \"\"\"副業で月１２万？１日５分で嘘みたいに稼げる方法を教えます。今なら申し込み無料！\"\"\"\n",
    "\n",
    "# ファイル名\n",
    "data_file = \"./ok-spam.pickle\"\n",
    "model_file = \"./ok-spam-model.pickle\"\n",
    "# y 単語のラベル(0:ok,1:spam)  に入れたため\n",
    "label_names = ['OK','SPAM']\n",
    "# 単語辞書を読み出す\n",
    "data = pickle.load(open(data_file, \"rb\"))\n",
    "word_dic = data[2]\n",
    "# MeCabの準備\n",
    "tagger = MeCab.Tagger()\n",
    "# 学習モデルを読み出す\n",
    "model = pickle.load(open(model_file,\"rb\"))\n",
    "\n",
    "#モデルファイルy,x,word_dicの順で入ってる\n",
    "# files[0]:y,files[1]:xのイメージ\n",
    "# y 単語idの要素に単語のラベル(0:ok,1:spam) 入ってる\n",
    "# x 単語idの要素に出現頻度入ってる\n",
    "# word_dic = {単語,id番号}\n",
    "# word_dic['__id’]→idを発行した数を記録\n",
    "\n",
    "#  テキストがスパムか否かを判定する\n",
    "def check_spam(text) : \n",
    "    # テキストを単語IDのリストに変換し、単語の頻出頻度を調べる\n",
    "    # 辞書の単語の数の要素がある配列（要素０）を作成\n",
    "    zw = np.zeros(word_dic['__id'])\n",
    "    count = 0\n",
    "    s =tagger.parse(text)\n",
    "    # 単語ごとの回数を計算\n",
    "    for line in s.split(\"\\n\") :\n",
    "        if line == \"EOS\" : break\n",
    "        params = line.split(\"\\t\")[1].split(\",\")\n",
    "        org = params[6] # 単語の原型\n",
    "        if org in word_dic :\n",
    "            id = word_dic[org]\n",
    "            zw[id] += 1\n",
    "            count += 1\n",
    "    zw = zw /count # 頻度に変換\n",
    "    # 単語のIDの要素に出現頻度が入り、それが予測対象になる\n",
    "    pred = model.predict([zw])[0]\n",
    "    print(\"結果=\", label_names[pred])\n",
    "    \n",
    "if __name__==\"__main__\" :\n",
    "    check_spam(test_text1)\n",
    "    check_spam(test_text2)"
   ]
  },
  {
   "cell_type": "code",
   "execution_count": null,
   "metadata": {
    "collapsed": true
   },
   "outputs": [],
   "source": []
  }
 ],
 "metadata": {
  "kernelspec": {
   "display_name": "Python 3",
   "language": "python",
   "name": "python3"
  },
  "language_info": {
   "codemirror_mode": {
    "name": "ipython",
    "version": 3
   },
   "file_extension": ".py",
   "mimetype": "text/x-python",
   "name": "python",
   "nbconvert_exporter": "python",
   "pygments_lexer": "ipython3",
   "version": "3.6.2"
  }
 },
 "nbformat": 4,
 "nbformat_minor": 2
}
